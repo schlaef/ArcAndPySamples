{
 "cells": [
  {
   "cell_type": "code",
   "execution_count": null,
   "metadata": {},
   "outputs": [],
   "source": [
    "from arcgis.features import FeatureLayer\n",
    "from arcgis.gis import GIS\n",
    "import pprint\n",
    "\n",
    "api_key = input(\"enter api_key: \")\n",
    "#gis = GIS(kwargs={'api_key':api_key}, url='https://geo.api.sbb.ch/portalsite')\n",
    "gis = GIS()"
   ]
  },
  {
   "cell_type": "code",
   "execution_count": null,
   "metadata": {},
   "outputs": [],
   "source": [
    "## unfortunately this approach does not authenticate us, we are still anonymous.\n",
    "gis = GIS(api_key=api_key)\n",
    "print(gis.properties)\n",
    "# lyr_url = 'https://geo.api.sbb.ch/site/rest/services/DGP_PUBLIC/netzelemente/FeatureServer/29'\n",
    "# feature_layer = FeatureLayer(lyr_url)\n",
    "# pprint.pp(feature_layer.properties)"
   ]
  },
  {
   "cell_type": "code",
   "execution_count": null,
   "metadata": {},
   "outputs": [],
   "source": [
    "\n",
    "lyr_url_api_key = f'https://geo.api.sbb.ch/site/rest/services/DGP_PUBLIC/netzelemente/FeatureServer/29?api_key={api_key}'\n",
    "lyr_url = 'https://geo.api.sbb.ch/site/rest/services/DGP_PUBLIC/netzelemente/FeatureServer/29'\n",
    "feature_layer = FeatureLayer(lyr_url_api_key)\n",
    "pprint.pp(feature_layer.properties)\n"
   ]
  },
  {
   "cell_type": "code",
   "execution_count": null,
   "metadata": {},
   "outputs": [],
   "source": [
    "for field in feature_layer.properties.fields:\n",
    "    print(f'{field[\"name\"]} \\t\\t\\t {field[\"type\"]}')"
   ]
  },
  {
   "cell_type": "code",
   "execution_count": null,
   "metadata": {},
   "outputs": [],
   "source": [
    "feature_set = feature_layer.query(where=\"1=1\", out_fields=\"*\", kwargs={\"token\":api_key})\n"
   ]
  },
  {
   "cell_type": "code",
   "execution_count": null,
   "metadata": {},
   "outputs": [],
   "source": []
  },
  {
   "cell_type": "code",
   "execution_count": null,
   "metadata": {},
   "outputs": [],
   "source": [
    "import arcgis\n",
    "import arcgis.map\n",
    "map1 = gis.map()\n",
    "map1: arcgis.map.Map\n",
    "map1.content.add(feature_layer, options={'opacity':0.4})\n",
    "map1"
   ]
  },
  {
   "cell_type": "code",
   "execution_count": null,
   "metadata": {},
   "outputs": [],
   "source": [
    "import requests\n",
    "headers = {\n",
    "'Authorization': f'Key {api_key}'\n",
    "}\n",
    "params = {'where': '1=1', 'f': 'pjson'}\n",
    "response = requests.get(\"https://geo.api.sbb.ch/site/rest/services/DGP_PUBLIC/netzelemente/FeatureServer/29/query\", params=params, headers=headers)\n",
    "pprint.pp(response.text)"
   ]
  }
 ],
 "metadata": {
  "kernelspec": {
   "display_name": "Python 3",
   "language": "python",
   "name": "python3"
  },
  "language_info": {
   "codemirror_mode": {
    "name": "ipython",
    "version": 3
   },
   "file_extension": ".py",
   "mimetype": "text/x-python",
   "name": "python",
   "nbconvert_exporter": "python",
   "pygments_lexer": "ipython3",
   "version": "3.11.10"
  }
 },
 "nbformat": 4,
 "nbformat_minor": 2
}
